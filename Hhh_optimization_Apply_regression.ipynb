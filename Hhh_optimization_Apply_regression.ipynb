{
 "cells": [
  {
   "cell_type": "markdown",
   "metadata": {},
   "source": [
    "# KERAS and TENSORFLOW-THEANO\n",
    "TUTORIAL: Applying the regression previously obtained\n",
    "(%lsmagic for magic commanda and ! for bash instruction)"
   ]
  },
  {
   "cell_type": "code",
   "execution_count": 1,
   "metadata": {
    "scrolled": true
   },
   "outputs": [
    {
     "name": "stderr",
     "output_type": "stream",
     "text": [
      "Using Theano backend.\n"
     ]
    },
    {
     "data": {
      "application/javascript": [
       "\n",
       "require(['notebook'],\n",
       "  function() {\n",
       "    IPython.CodeCell.config_defaults.highlight_modes['magic_text/x-c++src'] = {'reg':[/^%%cpp/]};\n",
       "    console.log(\"JupyROOT - %%cpp magic configured\");\n",
       "  }\n",
       ");\n"
      ]
     },
     "metadata": {},
     "output_type": "display_data"
    },
    {
     "name": "stdout",
     "output_type": "stream",
     "text": [
      "Welcome to JupyROOT 6.08/06\n",
      "I you had no error so far, this is great! We can start the tutorial.\n"
     ]
    },
    {
     "name": "stderr",
     "output_type": "stream",
     "text": [
      "/Users/Luca2/Library/Python/2.7/lib/python/site-packages/root_numpy/__init__.py:34: RuntimeWarning: ROOT 6.08/06 is currently active but you installed root_numpy against ROOT 6.08/00. Please consider reinstalling root_numpy for this ROOT version.\n",
      "  RuntimeWarning)\n",
      "/Users/Luca2/Library/Python/2.7/lib/python/site-packages/root_numpy/__init__.py:46: RuntimeWarning: numpy 1.12.1 is currently installed but you installed root_numpy against numpy 1.11.0. Please consider reinstalling root_numpy for this numpy version.\n",
      "  RuntimeWarning)\n"
     ]
    }
   ],
   "source": [
    "# We start by importing all the necessary packages\n",
    "import sys;\n",
    "import os, sys, array, re, math, random, subprocess, glob\n",
    "from math import *\n",
    "import numpy as np\n",
    "import scipy\n",
    "from numpy.lib.recfunctions import stack_arrays\n",
    "import pandas as pd\n",
    "import matplotlib\n",
    "import matplotlib.pyplot as plt\n",
    "import cPickle\n",
    "from sklearn.feature_selection import SelectKBest, f_classif\n",
    "from sklearn.model_selection import train_test_split, GridSearchCV\n",
    "from sklearn.preprocessing import StandardScaler, RobustScaler\n",
    "from sklearn.utils import compute_class_weight\n",
    "from sklearn.model_selection import KFold\n",
    "from keras.models import Sequential, Model\n",
    "from keras.layers import Dense, Activation, Dropout, Highway, MaxoutDense, Masking, GRU, Merge, Input, merge\n",
    "from keras.callbacks import EarlyStopping, ModelCheckpoint\n",
    "from keras.utils.np_utils import to_categorical\n",
    "from keras.wrappers.scikit_learn import KerasRegressor\n",
    "import deepdish.io as io\n",
    "import ROOT\n",
    "from ROOT import gSystem, gROOT, gApplication, TFile, TTree, TCut, TH1F, TCanvas\n",
    "from root_numpy import root2array \n",
    "from IPython.display import HTML, IFrame\n",
    "import seaborn as sns; sns.set()\n",
    "print \"I you had no error so far, this is great! We can start the tutorial.\""
   ]
  },
  {
   "cell_type": "markdown",
   "metadata": {},
   "source": [
    "We set some variables we will use later"
   ]
  },
  {
   "cell_type": "code",
   "execution_count": 2,
   "metadata": {},
   "outputs": [
    {
     "data": {
      "text/plain": [
       "('', None)"
      ]
     },
     "execution_count": 2,
     "metadata": {},
     "output_type": "execute_result"
    }
   ],
   "source": [
    "# Check this file out, it contains many functions we will use.\n",
    "execfile(\"Useful_func.py\")\n",
    "# We start loading the regression weights\n",
    "model_Lead    = load_model('models/Weights_regression_LeadingJet.h5')\n",
    "model_SubLead = load_model('models/Weights_regression_SubleadingJet.h5')\n",
    "# Parameters\n",
    "folder='Plots_Regression_Applied/' # Folder with Plots\n",
    "MakePlots=True # Set False if you want to run faster\n",
    "folderCreation  = subprocess.Popen(['mkdir -p ' + folder], stdout=subprocess.PIPE, shell=True); folderCreation.communicate()\n",
    "folderCreation2 = subprocess.Popen(['mkdir -p models/'], stdout=subprocess.PIPE, shell=True); folderCreation2.communicate()\n"
   ]
  },
  {
   "cell_type": "markdown",
   "metadata": {},
   "source": [
    "Now We Start manipulating ROOT files into a format we can use to train a MVA"
   ]
  },
  {
   "cell_type": "code",
   "execution_count": 3,
   "metadata": {},
   "outputs": [
    {
     "name": "stdout",
     "output_type": "stream",
     "text": [
      "---> hh Displayed as panda dataframe: \n",
      "      numOfVertices    b1jet_pt  b1jet_eta    b1jet_mt  b1jet_leadTrackPt  \\\n",
      "0                19  173.124298  -0.714916  173.738297          47.906250   \n",
      "1                33  246.682297   0.298446  248.075989          58.843750   \n",
      "2                30  340.403229   1.258016  342.380005          98.562500   \n",
      "3                14   80.552818   2.200674   81.073486          22.250000   \n",
      "4                16   86.618324  -1.492352   87.986191          10.437500   \n",
      "5                29  147.646530   0.765988  148.593613          38.468750   \n",
      "6                20  179.774414  -0.576904  181.731323          33.406250   \n",
      "7                13  160.337036  -0.464420  162.175751          36.437500   \n",
      "8                16   67.824074   1.615699   68.589928          27.625000   \n",
      "9                13  118.275604  -1.762509  119.216217          32.031250   \n",
      "10               42  174.260849   1.073892  176.100327          26.484375   \n",
      "11               33  142.049393   2.365291  142.999451          32.187500   \n",
      "12               12  124.097084  -1.880355  124.704475          38.593750   \n",
      "13               12  143.997528   0.601616  144.939636          24.234375   \n",
      "14               18   71.668770  -0.621273   73.713371          11.593750   \n",
      "15               17  168.491440  -0.539859  171.719299          32.968750   \n",
      "16               19   73.634766   0.321159   74.633331          17.312500   \n",
      "17               21  119.909294  -1.196250  120.385368          49.750000   \n",
      "18               23   61.311272   1.524936   62.131676          10.976562   \n",
      "19               16   61.002487   0.815358   62.718700           9.234375   \n",
      "20               19  139.507935  -1.512107  141.882187          27.843750   \n",
      "21               28  110.306679  -0.054426  111.114868          26.453125   \n",
      "22               24  104.096039   1.401750  105.602226          18.250000   \n",
      "23               25  291.652802   0.259874  292.595581         127.875000   \n",
      "24               19   81.992393   1.780108   82.384354          52.343750   \n",
      "25               30  142.617386  -2.139359  145.040131          16.468750   \n",
      "26               23  116.806374   1.657782  117.575821          19.390625   \n",
      "27               27  154.985306  -0.641958  155.757401          39.375000   \n",
      "28               13  165.338593  -0.083306  166.437698          73.812500   \n",
      "29               13   92.013832  -1.531184   93.055374          18.718750   \n",
      "...             ...         ...        ...         ...                ...   \n",
      "4179             10  106.920563   1.595005  107.600555          33.718750   \n",
      "4180             14  168.977829   0.369030  169.942062          20.859375   \n",
      "4181             17  162.309174  -0.738977  163.393280          50.562500   \n",
      "4182             18  195.396683   0.986165  197.111237          51.656250   \n",
      "4183             15  145.113007   0.869500  145.971710          42.187500   \n",
      "4184             21  132.413589  -0.916839  133.690887          23.671875   \n",
      "4185              9  156.645050  -0.551639  157.811218          30.000000   \n",
      "4186             14   64.592789   0.469875   65.037506          26.578125   \n",
      "4187             13   91.033875  -1.366691   91.870544          13.710938   \n",
      "4188             19  208.564087  -0.688823  209.781982          39.437500   \n",
      "4189             13  131.006027  -0.635232  131.669830          38.250000   \n",
      "4190             19  290.065521   0.494386  294.082397          70.250000   \n",
      "4191             14  138.806778  -1.244819  139.321594          42.781250   \n",
      "4192             17   73.083168  -0.811610   73.370872          18.265625   \n",
      "4193             11   89.882904   0.667456   90.569321          19.734375   \n",
      "4194             23  146.358154  -1.029058  147.400726          36.937500   \n",
      "4195             15   92.057373  -0.101632   92.881844          28.609375   \n",
      "4196             17  104.442467  -0.505933  105.075981          24.078125   \n",
      "4197             22   97.425247  -1.337259   98.079651          36.718750   \n",
      "4198             17   53.973141   0.510759   54.886993           6.984375   \n",
      "4199             22  252.435120   0.119302  253.330368          49.406250   \n",
      "4200             21   34.874130   1.170465   35.407772           8.390625   \n",
      "4201             15   72.169090   1.631212   72.741409          10.757812   \n",
      "4202             16  112.309776   2.326932  114.263672          20.156250   \n",
      "4203             18  215.564163  -1.329550  216.930481          38.218750   \n",
      "4204             10  183.669724  -0.545932  184.282684          32.468750   \n",
      "4205             24  142.690216  -0.111881  145.287308          18.406250   \n",
      "4206             24  194.084244  -1.529882  195.278931          42.531250   \n",
      "4207             20   58.787407   1.038611   59.727310          12.554688   \n",
      "4208             24  205.237549   0.429516  206.807175          67.312500   \n",
      "\n",
      "      b1jet_leptonDeltaR  b1jet_leptonPtRel  b1jet_leptonPt  b1jet_vtxPt  \\\n",
      "0               8.886246           0.000000       -1.000000    74.793633   \n",
      "1               9.475537           0.000000       -1.000000     0.000000   \n",
      "2              10.648453           0.000000       -1.000000    32.354179   \n",
      "3               0.030109           0.616346       20.328125     0.000000   \n",
      "4               8.461505           0.000000       -1.000000     0.000000   \n",
      "5              10.325735           0.000000       -1.000000    51.358002   \n",
      "6               8.449391           0.000000       -1.000000    59.352242   \n",
      "7               8.993304           0.000000       -1.000000    39.031902   \n",
      "8              11.567269           0.000000       -1.000000     9.160653   \n",
      "9               0.240124           1.074758        4.089844    36.400349   \n",
      "10             11.049647           0.000000       -1.000000    37.085175   \n",
      "11              0.345360           0.914004        2.976562    74.579536   \n",
      "12              7.274754           0.000000       -1.000000    74.031311   \n",
      "13             10.610615           0.000000       -1.000000    46.212391   \n",
      "14              0.192709           2.019463       10.992188    24.498207   \n",
      "15              0.196314           5.027470       24.781250    31.539532   \n",
      "16              0.145149           1.424389        9.976562    21.788664   \n",
      "17              8.662917           0.000000       -1.000000    26.808952   \n",
      "18             11.824152           0.000000       -1.000000    22.394354   \n",
      "19              0.208740           1.845764        9.234375    16.530825   \n",
      "20              0.080805           0.395285        4.757812    33.233883   \n",
      "21              9.439346           0.000000       -1.000000    39.979744   \n",
      "22              0.065805           0.926004       14.359375    22.372431   \n",
      "23              9.902719           0.000000       -1.000000    72.094505   \n",
      "24              0.022394           1.172604       52.343750     0.000000   \n",
      "25              8.440980           0.000000       -1.000000    48.842617   \n",
      "26              0.024754           0.316189       12.851562    28.930849   \n",
      "27              8.358043           0.000000       -1.000000   112.758125   \n",
      "28              0.130784           0.720070        5.515625    10.892419   \n",
      "29              7.470647           0.000000       -1.000000     0.000000   \n",
      "...                  ...                ...             ...          ...   \n",
      "4179            0.028555           0.975030       33.718750    13.896862   \n",
      "4180           10.113488           0.000000       -1.000000    35.457756   \n",
      "4181            8.778753           0.000000       -1.000000    29.944033   \n",
      "4182           10.057064           0.000000       -1.000000     0.000000   \n",
      "4183           10.051836           0.000000       -1.000000    67.497658   \n",
      "4184            8.448045           0.000000       -1.000000    18.176243   \n",
      "4185            0.018033           0.542842       30.000000    32.532211   \n",
      "4186            0.008087           0.214524       26.578125     0.000000   \n",
      "4187            0.045076           0.336845        7.582031    44.351162   \n",
      "4188            8.950663           0.000000       -1.000000     0.000000   \n",
      "4189            9.048704           0.000000       -1.000000    55.797474   \n",
      "4190           10.442945           0.000000       -1.000000    58.515644   \n",
      "4191            0.079511           0.883417       11.085938    80.296387   \n",
      "4192            8.420338           0.000000       -1.000000    31.049994   \n",
      "4193            9.693789           0.000000       -1.000000    26.811209   \n",
      "4194            9.134704           0.000000       -1.000000    62.402737   \n",
      "4195            9.511589           0.000000       -1.000000     0.000000   \n",
      "4196            8.527472           0.000000       -1.000000    63.183777   \n",
      "4197            9.638962           0.000000       -1.000000    49.043892   \n",
      "4198            9.727963           0.000000       -1.000000    26.755766   \n",
      "4199            9.206501           0.000000       -1.000000   158.867340   \n",
      "4200            0.074485           0.643987        8.390625    13.533996   \n",
      "4201            0.012889           0.137996       10.757812    39.250118   \n",
      "4202           11.417752           0.000000       -1.000000     0.000000   \n",
      "4203            0.143067           0.792131        5.882812    55.851654   \n",
      "4204            9.968075           0.000000       -1.000000    62.366951   \n",
      "4205            8.903337           0.000000       -1.000000    24.979242   \n",
      "4206            7.471152           0.000000       -1.000000    21.232380   \n",
      "4207           10.287676           0.000000       -1.000000    37.401752   \n",
      "4208            9.606818           0.000000       -1.000000    88.483246   \n",
      "\n",
      "      b1jet_vtxMass  b1jet_vtxNtracks  b1jet_neHEF  b1jet_neEmEF  \\\n",
      "0          1.621181               5.0     0.050416      0.484596   \n",
      "1          0.000000               0.0     0.138334      0.352227   \n",
      "2          0.974425               2.0     0.008021      0.458380   \n",
      "3          0.000000               0.0     0.098938      0.361311   \n",
      "4          0.000000               0.0     0.081685      0.191647   \n",
      "5          1.497231               4.0     0.000000      0.416437   \n",
      "6          1.739681               5.0     0.032811      0.386302   \n",
      "7          2.327658               7.0     0.063804      0.437253   \n",
      "8          1.250745               4.0     0.014668      0.188212   \n",
      "9          1.130635               2.0     0.052190      0.266156   \n",
      "10         0.912831               3.0     0.057075      0.405371   \n",
      "11         2.521918               6.0     0.036332      0.330625   \n",
      "12         2.496731               5.0     0.109807      0.068393   \n",
      "13         1.682473               4.0     0.056433      0.471207   \n",
      "14         3.971229               4.0     0.068335      0.153292   \n",
      "15         1.394474               2.0     0.092126      0.104681   \n",
      "16         1.927003               3.0     0.125832      0.456496   \n",
      "17         1.102442               2.0     0.466162      0.208322   \n",
      "18         0.993611               4.0     0.140550      0.309787   \n",
      "19         2.311434               3.0     0.017308      0.294034   \n",
      "20         0.787441               2.0     0.074661      0.264439   \n",
      "21         1.805104               3.0     0.114604      0.424745   \n",
      "22         0.865642               2.0     0.173671      0.134720   \n",
      "23         3.475206               6.0     0.025497      0.533626   \n",
      "24         0.000000               0.0     0.026820      0.085760   \n",
      "25         2.747471               8.0     0.060475      0.125024   \n",
      "26         1.147392               2.0     0.068261      0.046258   \n",
      "27         3.618078               9.0     0.035768      0.170569   \n",
      "28         0.922683               3.0     0.042418      0.633090   \n",
      "29         0.000000               0.0     0.019250      0.427386   \n",
      "...             ...               ...          ...           ...   \n",
      "4179       0.787464               2.0     0.000000      0.063075   \n",
      "4180       1.646550               4.0     0.000000      0.084273   \n",
      "4181       2.206645               4.0     0.021163      0.497783   \n",
      "4182       0.000000               0.0     0.058190      0.487911   \n",
      "4183       2.562554               4.0     0.035697      0.176890   \n",
      "4184       0.754159               3.0     0.195004      0.270035   \n",
      "4185       0.721098               3.0     0.198016      0.294027   \n",
      "4186       0.000000               0.0     0.145080      0.176597   \n",
      "4187       2.464221               4.0     0.011300      0.222361   \n",
      "4188       0.000000               0.0     0.064089      0.355883   \n",
      "4189       3.461878               7.0     0.000000      0.363505   \n",
      "4190       1.418736               4.0     0.270883      0.353508   \n",
      "4191       2.654532               3.0     0.009667      0.244694   \n",
      "4192       1.733792               4.0     0.058730      0.194406   \n",
      "4193       2.271355               4.0     0.140116      0.445143   \n",
      "4194       2.253494               3.0     0.050462      0.122176   \n",
      "4195       0.000000               0.0     0.072155      0.356835   \n",
      "4196       2.896321               4.0     0.054089      0.115826   \n",
      "4197       3.103243               4.0     0.148426      0.204084   \n",
      "4198       3.157123               7.0     0.127100      0.228040   \n",
      "4199       2.972229               5.0     0.036805      0.272501   \n",
      "4200       1.520187               4.0     0.078941      0.100557   \n",
      "4201       2.054717               5.0     0.007880      0.166400   \n",
      "4202       0.000000               0.0     0.000000      0.455082   \n",
      "4203       1.523466               3.0     0.079329      0.192642   \n",
      "4204       2.829094               6.0     0.000000      0.185033   \n",
      "4205       2.729821               4.0     0.051243      0.215653   \n",
      "4206       0.376182               2.0     0.177323      0.331266   \n",
      "4207       4.190404               6.0     0.093170      0.147334   \n",
      "4208       2.671451               3.0     0.079875      0.287074   \n",
      "\n",
      "      b1jet_vtx3DSig  b1jet_vtx3DVal  b1genjet_pt    target  \n",
      "0          26.157988        1.967698   172.178650  0.994538  \n",
      "1           0.000000        0.000000   195.914536  0.794198  \n",
      "2           7.705590        0.944695   304.522736  0.894594  \n",
      "3           0.000000        0.000000    54.073444  0.671279  \n",
      "4           0.000000        0.000000    81.036469  0.935558  \n",
      "5          10.634332        0.517075   160.419449  1.086510  \n",
      "6           7.832742        0.336888   190.524002  1.059795  \n",
      "7         111.891029        1.903939   145.027847  0.904519  \n",
      "8          15.613366        1.055085    40.859528  0.602434  \n",
      "9           4.221067        0.729125    29.835064  0.252250  \n",
      "10         59.300240        3.875120    25.439190  0.145983  \n",
      "11          9.813640        2.269392    54.086449  0.380758  \n",
      "12         12.895526        1.508751   148.629974  1.197691  \n",
      "13         70.620102        2.019354   142.146790  0.987147  \n",
      "14          6.774051        0.119047    77.364563  1.079474  \n",
      "15         36.233181        1.567695    38.814510  0.230365  \n",
      "16         34.668743        0.558064    75.007530  1.018643  \n",
      "17          4.029860        0.370166   112.457726  0.937857  \n",
      "18         12.429051        1.608558   103.063805  1.680993  \n",
      "19         14.351771        0.375071    26.262325  0.430512  \n",
      "20         35.490208        3.891939   160.244614  1.148642  \n",
      "21         25.943197        0.521567    96.823601  0.877767  \n",
      "22          7.299679        0.716665   196.157196  1.884387  \n",
      "23          6.141870        0.121861    58.760139  0.201473  \n",
      "24          0.000000        0.000000    94.045120  1.146998  \n",
      "25         95.135391        9.070968   140.353271  0.984125  \n",
      "26         11.310946        1.180041   100.526291  0.860623  \n",
      "27         95.211067        2.471222   146.179962  0.943186  \n",
      "28         29.623516        0.763060    34.241428  0.207099  \n",
      "29          0.000000        0.000000    66.349541  0.721082  \n",
      "...              ...             ...          ...       ...  \n",
      "4179       80.747337        5.091310    97.303169  0.910051  \n",
      "4180       12.049495        0.340086    63.751541  0.377278  \n",
      "4181       65.610970        1.475026    18.061647  0.111279  \n",
      "4182        0.000000        0.000000   168.360474  0.861634  \n",
      "4183      137.901337        3.142104    55.107250  0.379754  \n",
      "4184       28.632401        3.441884    98.093506  0.740811  \n",
      "4185       20.371883        2.223397    72.392227  0.462142  \n",
      "4186        0.000000        0.000000    43.591057  0.674860  \n",
      "4187        9.091996        0.358959   108.653152  1.193546  \n",
      "4188        0.000000        0.000000    36.969624  0.177258  \n",
      "4189       32.269066        0.708640    78.951546  0.602656  \n",
      "4190       62.424313        2.307542    76.908180  0.265141  \n",
      "4191       48.107204        2.382466    41.935692  0.302116  \n",
      "4192       28.372293        0.905632    51.823368  0.709101  \n",
      "4193      105.291374        1.804788    76.075172  0.846381  \n",
      "4194       86.123398        3.343389   145.684204  0.995395  \n",
      "4195        0.000000        0.000000    72.891304  0.791803  \n",
      "4196       24.550695        0.510523    94.095932  0.900936  \n",
      "4197       86.534584        2.708078    99.048744  1.016664  \n",
      "4198       24.108347        0.302249    43.435471  0.804761  \n",
      "4199       31.803873        1.445006    40.416618  0.160107  \n",
      "4200        9.507304        0.457221    34.610790  0.992449  \n",
      "4201       39.083225        2.107584    84.251884  1.167423  \n",
      "4202        0.000000        0.000000    38.743317  0.344968  \n",
      "4203       83.166000        4.362824    69.819923  0.323894  \n",
      "4204       17.599173        0.385763    73.018883  0.397555  \n",
      "4205       12.401098        0.151244    87.586975  0.613826  \n",
      "4206        6.663843        4.151495    23.140509  0.119229  \n",
      "4207       32.566494        0.527393    52.341438  0.890351  \n",
      "4208       20.452982        0.582686    75.035706  0.365604  \n",
      "\n",
      "[4209 rows x 17 columns]\n",
      "The shape for LeadJet is (samples, features): \n",
      "(4209, 17)\n",
      "The shape for SubLeadJet is (samples, features): \n",
      "(4209, 17)\n"
     ]
    }
   ],
   "source": [
    "# 0) We first have to place in alist the files we would like to apply the regression too.\n",
    "Input_Files = ['MVA_GluGluToRadionToHHTo2B2VTo2L2Nu_M-500_narrow_13TeV-madgraph-v2.root']\n",
    "# 1) Place a selection if you want to use it\n",
    "my_selec = 'met_pt>20 && met_pt<500 && muon1_pt>20 && muon2_pt>10 && fabs(muon1_eta)<2.4 && fabs(muon2_eta)<2.4 && pt_l1l2<500 && pt_b1b2<500 && mass_l1l2>12 && mass_l1l2<500 && mass_b1b2<500 && b1jet_pt>20 && fabs(b1jet_eta)<2.4 && b2jet_pt>20 && fabs(b2jet_eta)<2.4 && mass_trans>10 && mass_trans<500 && HT<4000'\n",
    "# 2) Selecting the branches that contains the information we want to use (in general)\n",
    "my_branches_jet1 = [\"numOfVertices\",\"b1jet_pt\",\"b1jet_eta\",\"b1jet_mt\",\"b1jet_leadTrackPt\",\"b1jet_leptonDeltaR\",\"b1jet_leptonPtRel\",\"b1jet_leptonPt\",\"b1jet_vtxPt\",\"b1jet_vtxMass\",\"b1jet_vtxNtracks\",\"b1jet_neHEF\",\"b1jet_neEmEF\",\"b1jet_vtx3DSig\",\"b1jet_vtx3DVal\",\"b1genjet_pt\"]\n",
    "my_branches_jet2 = [\"numOfVertices\",\"b2jet_pt\",\"b2jet_eta\",\"b2jet_mt\",\"b2jet_leadTrackPt\",\"b2jet_leptonDeltaR\",\"b2jet_leptonPtRel\",\"b2jet_leptonPt\",\"b2jet_vtxPt\",\"b2jet_vtxMass\",\"b2jet_vtxNtracks\",\"b2jet_neHEF\",\"b2jet_neEmEF\",\"b2jet_vtx3DSig\",\"b2jet_vtx3DVal\",\"b2genjet_pt\"]\n",
    "# 3) Selecting the branches that contains the information we want to use (in the training)\n",
    "my_branches_training_jet1 = my_branches_jet1\n",
    "my_branches_training_jet2 = my_branches_jet2\n",
    "# Converting Root files in dataframe (Very useful, checnl root2panda in Useful_func.py)\n",
    "LeadJet    = root2panda('files'+Input_Files[0], 'DiHiggsWWBBAna/evtree', branches=my_branches_jet1, selection=my_selec_jet1)\n",
    "SubLeadJet = root2panda('files'+Input_Files[0], 'DiHiggsWWBBAna/evtree', branches=my_branches_jet2, selection=my_selec_jet2)\n"
   ]
  },
  {
   "cell_type": "markdown",
   "metadata": {},
   "source": [
    "You need:\n",
    "1. X : matrix with raw=#Events and column=Variables to discriminate.\"\n",
    "2. w : A vector containig the weights of each event\"\n",
    "3. Y : A vector containing the target: genPt/recoPt. This is the weight you will then apply to the recoPt"
   ]
  },
  {
   "cell_type": "code",
   "execution_count": 6,
   "metadata": {},
   "outputs": [
    {
     "name": "stdout",
     "output_type": "stream",
     "text": [
      "Now lets start to talk about DNN!\n"
     ]
    }
   ],
   "source": [
    "print('Now lets start to talk about DNN!')\n",
    "# Turn the df the desired ndarray \"X\" that can be directly used for ML applications.\n",
    "X    = LeadJet[my_branches_training_jet1].as_matrix() # Each row is an object to classify, each column corresponds to a specific variable.\n",
    "if (doSubLead):\n",
    "    X = SubLeadJet[my_branches_training_jet2].as_matrix()\n",
    "# No weights needed, just set al to 1\n",
    "w    =  np.ones(X.shape[0])\n",
    "# This is the array with the true values: 0 is signal, 1 if TT.\n",
    "y = LeadJet[\"target\"]\n",
    "if (doSubLead):\n",
    "  y = SubLeadJet[\"target\"]\n",
    "\n",
    "# Randomly shuffle and automatically split all your objects into train and test subsets\n",
    "ix = range(X.shape[0]) # array of indices, just to keep track of them for safety reasons and future checks\n",
    "X_train, X_test, y_train, y_test, w_train, w_test, ix_train, ix_test = train_test_split(X, y, w, ix, train_size=0.7) # Train here is 70% of the total statistic\n",
    "# It is common practice to scale the inputs to Neural Nets such that they have approximately similar ranges (it atually improve the results)\n",
    "scaler = StandardScaler() \n",
    "X_train = scaler.fit_transform(X_train)\n",
    "X_test = scaler.transform(X_test) # You are applying the same transformation done to X_train, to X_test."
   ]
  },
  {
   "cell_type": "code",
   "execution_count": 7,
   "metadata": {},
   "outputs": [
    {
     "name": "stderr",
     "output_type": "stream",
     "text": [
      "IOPub data rate exceeded.\n",
      "The notebook server will temporarily stop sending output\n",
      "to the client in order to avoid crashing it.\n",
      "To change this limit, set the config variable\n",
      "`--NotebookApp.iopub_data_rate_limit`.\n"
     ]
    }
   ],
   "source": [
    "# This takes a while, but it is worth do do it once. It shows the correlations for S and B overimposed.\n",
    "# More variables you add in var_toPlot, more times it takes.\n",
    "if MakePlots:\n",
    "    # Next lines to select the same number of entries\n",
    "    var_toPlot = [\"target\",\"numOfVertices\",\"b1jet_pt\",\"b1jet_eta\",\"b1jet_mt\",\"b1jet_leadTrackPt\",\"b1jet_leptonDeltaR\",\"b1jet_leptonPtRel\",\"b1jet_leptonPt\",\"b1jet_vtxPt\",\"b1jet_vtxMass\",\"b1jet_vtxNtracks\",\"b1jet_neHEF\",\"b1jet_neEmEF\",\"b1jet_vtx3DSig\",\"b1jet_vtx3DVal\",\"b1genjet_pt\"]\n",
    "    if (doSubLead):\n",
    "        var_toPlot = [\"target\",\"numOfVertices\",\"b2jet_pt\",\"b2jet_eta\",\"b2jet_mt\",\"b2jet_leadTrackPt\",\"b2jet_leptonDeltaR\",\"b2jet_leptonPtRel\",\"b2jet_leptonPt\",\"b2jet_vtxPt\",\"b2jet_vtxMass\",\"b2jet_vtxNtracks\",\"b2jet_neHEF\",\"b2jet_neEmEF\",\"b2jet_vtx3DSig\",\"b2jet_vtx3DVal\",\"b2genjet_pt\"]\n",
    "    # You can select the variable to plot in sns.pairplot using an argumnet vars=['var1','var2'...]\n",
    "    sns_plot = sns.pairplot(LeadJet,palette=[\"#e74c3c\"],plot_kws={\"s\": 3,\"alpha\":0.3},size=5)\n",
    "    sns_plot.savefig(folder + \"/Variables_pairplot_LeadingJet.pdf\")"
   ]
  },
  {
   "cell_type": "code",
   "execution_count": 8,
   "metadata": {},
   "outputs": [
    {
     "data": {
      "text/plain": [
       "<keras.callbacks.History at 0x1575d0e10>"
      ]
     },
     "execution_count": 8,
     "metadata": {},
     "output_type": "execute_result"
    },
    {
     "name": "stdout",
     "output_type": "stream",
     "text": [
      "Now fitting the Train sample to get our model\n",
      "_________________________________________________________________\n",
      "Layer (type)                 Output Shape              Param #   \n",
      "=================================================================\n",
      "dense_1 (Dense)              (None, 10)                170       \n",
      "_________________________________________________________________\n",
      "dropout_1 (Dropout)          (None, 10)                0         \n",
      "_________________________________________________________________\n",
      "dense_2 (Dense)              (None, 20)                220       \n",
      "_________________________________________________________________\n",
      "dropout_2 (Dropout)          (None, 20)                0         \n",
      "_________________________________________________________________\n",
      "dense_3 (Dense)              (None, 20)                420       \n",
      "_________________________________________________________________\n",
      "dropout_3 (Dropout)          (None, 20)                0         \n",
      "_________________________________________________________________\n",
      "dense_4 (Dense)              (None, 10)                210       \n",
      "_________________________________________________________________\n",
      "dropout_4 (Dropout)          (None, 10)                0         \n",
      "_________________________________________________________________\n",
      "dense_5 (Dense)              (None, 20)                220       \n",
      "_________________________________________________________________\n",
      "dropout_5 (Dropout)          (None, 20)                0         \n",
      "_________________________________________________________________\n",
      "dense_6 (Dense)              (None, 1)                 21        \n",
      "=================================================================\n",
      "Total params: 1,261\n",
      "Trainable params: 1,261\n",
      "Non-trainable params: 0\n",
      "_________________________________________________________________\n"
     ]
    }
   ],
   "source": [
    "# Regression\n",
    "def baseline_model():\n",
    "    model = Sequential()\n",
    "    model.add(Dense(10, input_dim=X_train.shape[1], activation='relu')) # Linear transformation of the input vector. The first number is output_dim.\\n\",\n",
    "    model.add(Dropout(0.1)) # To avoid overfitting. It masks the outputs of the previous layer such that some of them will randomly become inactive and will not contribute to infor\n",
    "    model.add(Dense(20, activation='relu'))\n",
    "    model.add(Dropout(0.1))\n",
    "    model.add(Dense(20, activation='sigmoid'))\n",
    "    model.add(Dropout(0.1))\n",
    "    model.add(Dense(10,activation='tanh'))\n",
    "    model.add(Dropout(0.1))\n",
    "    model.add(Dense(20, activation='sigmoid'))\n",
    "    model.add(Dropout(0.1))\n",
    "    model.add(Dense(1))\n",
    "    # Compile model\n",
    "    model.compile(loss='mean_squared_error', optimizer='adam')\n",
    "    model.summary()\n",
    "    return model\n",
    "# evaluate model with standardized dataset\n",
    "estimator = KerasRegressor(build_fn=baseline_model, nb_epoch=100, batch_size=15, verbose=0)\n",
    "print \"Now fitting the Train sample to get our model\"\n",
    "estimator.fit(X_train,y_train)"
   ]
  },
  {
   "cell_type": "code",
   "execution_count": 9,
   "metadata": {
    "scrolled": true
   },
   "outputs": [
    {
     "data": {
      "image/png": "[encoded data removed]",
      "text/plain": [
       "<matplotlib.figure.Figure at 0x157845b10>"
      ]
     },
     "metadata": {},
     "output_type": "display_data"
    },
    {
     "data": {
      "image/png": "[encoded data removed]",
      "text/plain": [
       "<matplotlib.figure.Figure at 0x14423e090>"
      ]
     },
     "metadata": {},
     "output_type": "display_data"
    },
    {
     "data": {
      "image/png": "[encoded data removed]",
      "text/plain": [
       "<matplotlib.figure.Figure at 0x1450560d0>"
      ]
     },
     "metadata": {},
     "output_type": "display_data"
    },
    {
     "name": "stdout",
     "output_type": "stream",
     "text": [
      "score: 0.1970435606\n",
      "('Saving:', 'Plots_Regression//Regression_y_hat.pdf')\n",
      "('Saving:', 'Plots_Regression//Regression_y_hat_OverY.pdf')\n",
      "WARNING. Pt Feature not found!!\n"
     ]
    }
   ],
   "source": [
    "# Get a prediction on the test\n",
    "y_hat = estimator.predict(X_test)\n",
    "# Get the score\n",
    "score = estimator.score(X_test, y_test)\n",
    "print \"score:\", score\n",
    "\n",
    "# Plot the test target and the estimated one\n",
    "%matplotlib inline\n",
    "if MakePlots:\n",
    "    # Estimatd target\n",
    "    matplotlib.rcParams.update({'font.size': 16})\n",
    "    fig = plt.figure(figsize=(11.69, 8.27), dpi=100)\n",
    "    bins = np.linspace(my_max(min(y_hat),0.), max(y_hat), 100)\n",
    "    _ = plt.hist(y_hat,  bins=bins, histtype='step', normed=True, label=r'$y_hat$', linewidth=2)\n",
    "    plt.xlabel(\"y_hat\")\n",
    "    plt.ylabel('Entries')\n",
    "    plt.legend(loc='best')\n",
    "    print('Saving:',folder + '/Regression_y_hat.pdf')\n",
    "    plt.savefig(folder + '/Regression_y_hat.pdf')\n",
    "    # Estimatd target/ True target\n",
    "    matplotlib.rcParams.update({'font.size': 16})\n",
    "    fig = plt.figure(figsize=(11.69, 8.27), dpi=100)\n",
    "    bins = np.linspace(my_max(min(y_hat/y_test),0.), 2, 100)\n",
    "    _ = plt.hist(y_hat/y_test,  bins=bins, histtype='step', normed=True, label=r'$y_hat/y$', linewidth=2)\n",
    "    plt.xlabel(\"y_hat/y\")\n",
    "    plt.ylabel('Entries')\n",
    "    plt.legend(loc='best')\n",
    "    print('Saving:',folder + '/Regression_y_hat_OverY.pdf')\n",
    "    plt.savefig(folder + '/Regression_y_hat_OverY.pdf')\n",
    "    # Pt Resolution Before After (first I have to find the index in X_test that corresponf to the Jet and Genjet pT)\n",
    "    N_bjet_pt = -1; N_bgenjet_pt = -1\n",
    "    N_tmp = 0\n",
    "    for Feature in my_branches_training_jet1:\n",
    "        if(not doSubLead and Feature==\"b1jet_pt\"): N_bjet_pt = N_tmp\n",
    "        if(not doSubLead and Feature==\"b1genjet_pt\"): N_bgenjet_pt = N_tmp\n",
    "        if(doSubLead and Feature==\"b2jet_pt\"): N_bjet_pt = N_tmp\n",
    "        if(doSubLead and Feature==\"b2genjet_pt\"): N_bgenjet_pt = N_tmp\n",
    "        N_tmp += 1\n",
    "    if( N_bjet_pt==-1 or N_bgenjet_pt==-1 ): print \"WARNING. Pt Feature not found!!\"\n",
    "    X_test_ori = scaler.inverse_transform(X_test) # Need also to trasform back the X_test\n",
    "    bjet_pt = X_test_ori[:,N_bjet_pt]\n",
    "    bgenjet_pt = X_test_ori[:,N_bgenjet_pt]\n",
    "    Variable       = (bjet_pt-bgenjet_pt)       \n",
    "    Variable_corr  = (bjet_pt*y_hat-bgenjet_pt) \n",
    "    Variable_ideal = (bjet_pt*y_test-bgenjet_pt)\n",
    "    matplotlib.rcParams.update({'font.size': 16})\n",
    "    fig = plt.figure(figsize=(11.69, 8.27), dpi=100)\n",
    "    bins = np.linspace(-50, 50, 100)\n",
    "    _ = plt.hist(Variable,  bins=bins, histtype='step', normed=True, label=r'$STD$', linewidth=2)\n",
    "    _ = plt.hist(Variable_corr,  bins=bins, histtype='step', normed=True, label=r'$CORR$', linewidth=2)\n",
    "    #You chan check if this below is a single Bin in 0\n",
    "    #_ = plt.hist(Variable_ideal,  bins=bins, histtype='step', normed=True, label=r'$IDEAL$', linewidth=2)\n",
    "    plt.xlabel(\"pT Resolution\")\n",
    "    plt.ylabel('Entries')\n",
    "    plt.legend(loc='best')\n",
    "    plt.savefig(folder + '/Regression_PtRes.pdf')\n",
    "\n",
    "#kfold = KFold(n_splits=10, random_state=seed)\n",
    "#results = cross_val_score(estimator, X, Y, cv=kfold)\n",
    "#print(\"Results: %.2f (%.2f) MSE\" % (results.mean(), results.std()))"
   ]
  },
  {
   "cell_type": "code",
   "execution_count": 10,
   "metadata": {},
   "outputs": [
    {
     "ename": "NameError",
     "evalue": "name 'model' is not defined",
     "output_type": "error",
     "traceback": [
      "\u001b[0;31m\u001b[0m",
      "\u001b[0;31mNameError\u001b[0mTraceback (most recent call last)",
      "\u001b[0;32m<ipython-input-10-73680bf1e8f5>\u001b[0m in \u001b[0;36m<module>\u001b[0;34m()\u001b[0m\n\u001b[1;32m      2\u001b[0m \u001b[0mname\u001b[0m \u001b[0;34m=\u001b[0m \u001b[0;34m\"Weights_regression_LeadingJet.h5\"\u001b[0m\u001b[0;34m\u001b[0m\u001b[0m\n\u001b[1;32m      3\u001b[0m \u001b[0;32mif\u001b[0m \u001b[0mdoSubLead\u001b[0m\u001b[0;34m:\u001b[0m \u001b[0mname\u001b[0m \u001b[0;34m=\u001b[0m \u001b[0;34m\"Weights_regression_SubleadingJet.h5\"\u001b[0m\u001b[0;34m\u001b[0m\u001b[0m\n\u001b[0;32m----> 4\u001b[0;31m \u001b[0mmodel\u001b[0m\u001b[0;34m.\u001b[0m\u001b[0msave\u001b[0m\u001b[0;34m(\u001b[0m\u001b[0mfolder\u001b[0m \u001b[0;34m+\u001b[0m \u001b[0;34m'/'\u001b[0m \u001b[0;34m+\u001b[0m \u001b[0mname\u001b[0m\u001b[0;34m)\u001b[0m\u001b[0;34m\u001b[0m\u001b[0m\n\u001b[0m",
      "\u001b[0;31mNameError\u001b[0m: name 'model' is not defined"
     ]
    }
   ],
   "source": [
    "# Now save this model into a file\n",
    "name = \"Weights_regression_LeadingJet.h5\"\n",
    "if doSubLead: name = \"Weights_regression_SubleadingJet.h5\"\n",
    "model.save(folder + '/' + name)"
   ]
  }
 ],
 "metadata": {
  "kernelspec": {
   "display_name": "Python 2",
   "language": "python",
   "name": "python2"
  },
  "language_info": {
   "codemirror_mode": {
    "name": "ipython",
    "version": 2
   },
   "file_extension": ".py",
   "mimetype": "text/x-python",
   "name": "python",
   "nbconvert_exporter": "python",
   "pygments_lexer": "ipython2",
   "version": "2.7.13"
  }
 },
 "nbformat": 4,
 "nbformat_minor": 2
}
