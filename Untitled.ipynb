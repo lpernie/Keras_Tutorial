{
 "cells": [
  {
   "cell_type": "code",
   "execution_count": 1,
   "metadata": {},
   "outputs": [
    {
     "name": "stdout",
     "output_type": "stream",
     "text": [
      "/usr/local/opt/python/bin/python2.7\n"
     ]
    }
   ],
   "source": [
    "import sys;\n",
    "print sys.executable"
   ]
  },
  {
   "cell_type": "code",
   "execution_count": 3,
   "metadata": {},
   "outputs": [
    {
     "name": "stdout",
     "output_type": "stream",
     "text": [
      "Testing the IMPORT of the basic python libraries\n",
      "Testing the IMPORT of numpy, scipy, pandas and matplotlib\n"
     ]
    }
   ],
   "source": [
    "import os, sys, array, re, math, random, subprocess, glob\n",
    "#These paths are not seen by jupiter!\n",
    "sys.path.append('/Library/Python/2.7/site-packages')\n",
    "sys.path.append('/usr/local/Cellar/root6/6.08.06/lib/root')\n",
    "print 'Testing the IMPORT of the basic python libraries'\n",
    "from math import *\n",
    "print 'Testing the IMPORT of numpy, scipy, pandas and matplotlib'\n",
    "import numpy as np\n",
    "import scipy\n",
    "from numpy.lib.recfunctions import stack_arrays\n",
    "import pandas as pd\n",
    "import matplotlib\n",
    "import matplotlib.pyplot as plt\n",
    "import cPickle\n",
    "import deepdish.io as io"
   ]
  },
  {
   "cell_type": "code",
   "execution_count": 4,
   "metadata": {},
   "outputs": [
    {
     "name": "stdout",
     "output_type": "stream",
     "text": [
      "Testing the IMPORT of sklearn and Keras\n"
     ]
    },
    {
     "name": "stderr",
     "output_type": "stream",
     "text": [
      "Using TensorFlow backend.\n"
     ]
    }
   ],
   "source": [
    "print 'Testing the IMPORT of sklearn and Keras'\n",
    "from sklearn.feature_selection import SelectKBest, f_classif\n",
    "from sklearn.model_selection import train_test_split\n",
    "from sklearn.preprocessing import StandardScaler\n",
    "from sklearn.utils import compute_class_weight\n",
    "from sklearn.model_selection import GridSearchCV\n",
    "from keras.models import Sequential\n",
    "from keras.models import Model\n",
    "from keras.layers import Dense, Activation, Dropout\n",
    "from keras.layers import Highway, MaxoutDense\n",
    "from keras.layers import Masking, GRU, Merge\n",
    "from keras.layers import Input, merge\n",
    "from keras.callbacks import EarlyStopping, ModelCheckpoint\n",
    "from keras.utils.np_utils import to_categorical"
   ]
  },
  {
   "cell_type": "code",
   "execution_count": 6,
   "metadata": {},
   "outputs": [
    {
     "name": "stdout",
     "output_type": "stream",
     "text": [
      "Testing the IMPORT of pyROOT and root_numpy\n",
      "DONE\n"
     ]
    }
   ],
   "source": [
    "print 'Testing the IMPORT of pyROOT and root_numpy'\n",
    "from ROOT import gSystem, gROOT, gApplication, TFile, TTree, TCut, TH1F\n",
    "#from root_numpy import root2array, root2array \n",
    "print \"DONE\""
   ]
  },
  {
   "cell_type": "code",
   "execution_count": null,
   "metadata": {
    "collapsed": true
   },
   "outputs": [],
   "source": []
  }
 ],
 "metadata": {
  "kernelspec": {
   "display_name": "Python 2",
   "language": "python",
   "name": "python2"
  },
  "language_info": {
   "codemirror_mode": {
    "name": "ipython",
    "version": 2
   },
   "file_extension": ".py",
   "mimetype": "text/x-python",
   "name": "python",
   "nbconvert_exporter": "python",
   "pygments_lexer": "ipython2",
   "version": "2.7.13"
  }
 },
 "nbformat": 4,
 "nbformat_minor": 2
}
